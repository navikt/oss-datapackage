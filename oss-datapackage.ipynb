{
 "cells": [
  {
   "cell_type": "code",
   "execution_count": null,
   "metadata": {},
   "outputs": [],
   "source": [
    "import pandas as pd\n",
    "import plotly.graph_objects as go\n",
    "import plotly.io as plio\n",
    "import datetime as dt\n",
    "import requests\n",
    "from dataverk import Datapackage, Client\n",
    "from dataverk_vault import api as vault_api\n",
    "import os"
   ]
  },
  {
   "cell_type": "code",
   "execution_count": null,
   "metadata": {},
   "outputs": [],
   "source": [
    "vault_api.set_secrets_as_envs()\n",
    "user = os.environ[\"GH_REPO_USER\"]\n",
    "token = os.environ[\"GH_REPO_TOKEN\"]"
   ]
  },
  {
   "cell_type": "code",
   "execution_count": null,
   "metadata": {},
   "outputs": [],
   "source": [
    "repo_types = ['internal', 'public', 'private']"
   ]
  },
  {
   "cell_type": "code",
   "execution_count": null,
   "metadata": {},
   "outputs": [],
   "source": [
    "def get_repos(repo_type, user=user, token=token):\n",
    "    params = {'accept': 'application/vnd.github.v3+json'}\n",
    "    page = 1\n",
    "    get_more_repos = True\n",
    "    repos = []\n",
    "    while get_more_repos:\n",
    "        url = f'https://api.github.com/orgs/navikt/repos?per_page=100&type={repo_type}&page={page}'\n",
    "        print(f'Fetching {repo_type} repos, page {page}')\n",
    "        r = requests.get(url, auth=(user, token))\n",
    "        repos = repos + [repo['full_name'] for repo in r.json()]\n",
    "        page = page + 1\n",
    "        if(len(r.json())<100):\n",
    "            get_more_repos = False\n",
    "        \n",
    "    if len(repos)>0:\n",
    "        df = pd.DataFrame(repos)\n",
    "        df.columns = ['repo']\n",
    "        df['repo_type'] = repo_type\n",
    "    else:\n",
    "        df = pd.DataFrame()\n",
    "    return df"
   ]
  },
  {
   "cell_type": "code",
   "execution_count": null,
   "metadata": {},
   "outputs": [],
   "source": [
    "df = pd.DataFrame()\n",
    "for repo_type in repo_types:\n",
    "    repos = get_repos(repo_type)\n",
    "    if len(repos)>0:\n",
    "        df = df.append(repos)"
   ]
  },
  {
   "cell_type": "code",
   "execution_count": null,
   "metadata": {},
   "outputs": [],
   "source": [
    "df_repos = df.groupby('repo_type').size().reset_index(name='antall')"
   ]
  },
  {
   "cell_type": "code",
   "execution_count": null,
   "metadata": {},
   "outputs": [],
   "source": [
    "print(df_repos.to_string(index=False))"
   ]
  },
  {
   "cell_type": "code",
   "execution_count": null,
   "metadata": {},
   "outputs": [],
   "source": [
    "andel_public = round(df_repos[df_repos['repo_type']=='public']['antall'].sum() / df_repos['antall'].sum(),3)"
   ]
  },
  {
   "cell_type": "code",
   "execution_count": null,
   "metadata": {},
   "outputs": [],
   "source": [
    "oppdatert = dt.datetime.now().strftime('%d.%m.%Y kl. %H:%M:%S')\n",
    "today = dt.datetime.now().strftime('%Y-%m-%d')"
   ]
  },
  {
   "cell_type": "code",
   "execution_count": null,
   "metadata": {},
   "outputs": [],
   "source": [
    "os_kpi = go.Figure()\n",
    "\n",
    "title = 'Grad av åpen kildekode'\n",
    "subtitle = 'Andel public repo i github.com/navikt'\n",
    "\n",
    "os_kpi.add_trace(\n",
    "    go.Indicator(\n",
    "            mode = 'number',\n",
    "            value = andel_public,\n",
    "            number = {'valueformat': '%', 'font': {'size': 150}},\n",
    "            title = {'text': f'''{title}<br><span style='font-size:0.6em;color:gray;'>{subtitle}</span>''', \n",
    "                     'font': {'size': 30}}\n",
    "            \n",
    "        )\n",
    ")\n",
    "\n",
    "\n",
    "os_kpi.update_layout(\n",
    "    annotations = [\n",
    "        go.layout.Annotation(\n",
    "            showarrow=False,\n",
    "            text='<span style=\\'font-size: 0.8em\\'> Sist oppdatert: {}</span>'.format(oppdatert),\n",
    "            xanchor='right',\n",
    "            x=1,\n",
    "            yanchor='top',\n",
    "            y=0.01\n",
    "        )       \n",
    "    ]\n",
    ")\n",
    "\n",
    "os_kpi"
   ]
  },
  {
   "cell_type": "code",
   "execution_count": null,
   "metadata": {},
   "outputs": [],
   "source": [
    "fig_repo = go.Figure()\n",
    "fig_repo.add_trace(go.Bar(\n",
    "    x = df_repos['repo_type'],\n",
    "    y = df_repos['antall'],\n",
    "    name = 'Antall repo',\n",
    "    marker_color='#920000'\n",
    "))\n",
    "\n",
    "fig_repo.update_layout(\n",
    "    title=go.layout.Title(text = 'Antall repo per type i github.com/navikt<br><span style=\\'font-size: 0.5em\\'> Sist oppdatert: {}</span>'.format(oppdatert)),\n",
    "    separators=', ',\n",
    "    paper_bgcolor='rgba(0,0,0,0)',\n",
    "    plot_bgcolor='rgba(0,0,0,0)',\n",
    "    title_x=0.5,    \n",
    ")\n",
    "\n",
    "\n",
    "fig_repo.update_xaxes(showline=True, linewidth=1, linecolor='black', fixedrange=True)\n",
    "fig_repo.update_yaxes(showline=True, linewidth=1, linecolor='black', fixedrange=True, tickformat=',g', gridcolor='#E6E6E6')\n",
    "\n",
    "fig_repo"
   ]
  },
  {
   "cell_type": "code",
   "execution_count": null,
   "metadata": {},
   "outputs": [],
   "source": [
    "metadata = {\n",
    "    'title': 'Åpen kildekode på navikt-org på GitHub',\n",
    "    'description': 'Viser antall repositories i [navikt-organisasjonen på GitHub](https://github.com/navikt/), fordelt på repository-typer. Hensikten er å overvåke andelen repositories som er åpen kildekode.',\n",
    "    'readme': '',\n",
    "    'accessRights': 'Open', \n",
    "    'issued': dt.datetime.now().isoformat(),\n",
    "    'modified': dt.datetime.now().isoformat(), \n",
    "    'language': 'Norsk', \n",
    "    'periodicity': '',\n",
    "    'temporal': {'from': f'2020-11-02', 'to': f'{today}'},\n",
    "    'author': 'Gøran Berntsen',\n",
    "    'publisher': {'name': 'nais', 'url': 'https://nais.io'}, # Optional. Default NAV\n",
    "    'contactpoint': {'name': 'Gøran Berntsen', 'email': 'goran.berntsen@nav.no'},\n",
    "    'license': {'name': 'CC BY 4.0', 'url': 'http://creativecommons.org/licenses/by/4.0/deed.no'}, #Optional. Default CC BY 4.0\n",
    "    'keywords': [],\n",
    "    'spatial': '',\n",
    "    'theme': [],\n",
    "    'type': 'datapackage',\n",
    "    'format': 'datapackage',\n",
    "    'category': 'category',\n",
    "    'provenance': 'NAV',\n",
    "    'repo': '',\n",
    "    'notebook': '',\n",
    "    'store': 'nais',\n",
    "    'project': 'odata',\n",
    "    'bucket': 'nav-opendata'\n",
    "}\n",
    "dp = Datapackage(metadata)"
   ]
  },
  {
   "cell_type": "code",
   "execution_count": null,
   "metadata": {},
   "outputs": [],
   "source": [
    "dp.add_view(spec_type = 'plotly',\n",
    "            description = '',\n",
    "            name = 'Åpen kildekode',\n",
    "            title = 'Åpen kildekode',\n",
    "            spec = plio.to_json(os_kpi),\n",
    "            resources = '')"
   ]
  },
  {
   "cell_type": "code",
   "execution_count": null,
   "metadata": {},
   "outputs": [],
   "source": [
    "dp.add_view(spec_type = 'plotly',\n",
    "            description = '''Merk at de ulike typene er beskrevet slik på GitHub:\n",
    "            *Public repositories are accessible to everyone on the internet. Private repositories are only accessible to you, people you explicitly share access with, and, for organization repositories, certain organization members. Internal repositories are accessible to enterprise members.*\n",
    "            ''',\n",
    "            name = 'Antall repositories',\n",
    "            title = 'Antall repositories',\n",
    "            spec = plio.to_json(fig_repo),\n",
    "            resources = '')"
   ]
  },
  {
   "cell_type": "code",
   "execution_count": null,
   "metadata": {},
   "outputs": [],
   "source": [
    "dv = Client()"
   ]
  },
  {
   "cell_type": "code",
   "execution_count": null,
   "metadata": {},
   "outputs": [],
   "source": [
    "dv.context.settings[\"index_connections\"][\"elastic_host\"] = \"https://dv-api-ekstern.prod-gcp.nais.io/index/write/dcat\"\n",
    "os.environ[\"DATAVERK_BUCKET_ENDPOINT\"] = \"https://dv-api-ekstern.prod-gcp.nais.io/storage\"\n",
    "dv.publish(dp)"
   ]
  }
 ],
 "metadata": {
  "kernelspec": {
   "display_name": "Python 3",
   "language": "python",
   "name": "python3"
  },
  "language_info": {
   "codemirror_mode": {
    "name": "ipython",
    "version": 3
   },
   "file_extension": ".py",
   "mimetype": "text/x-python",
   "name": "python",
   "nbconvert_exporter": "python",
   "pygments_lexer": "ipython3",
   "version": "3.7.4"
  }
 },
 "nbformat": 4,
 "nbformat_minor": 4
}